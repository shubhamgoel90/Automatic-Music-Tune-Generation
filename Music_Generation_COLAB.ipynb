{
 "cells": [
  {
   "cell_type": "code",
   "execution_count": 1,
   "metadata": {
    "colab": {
     "base_uri": "https://localhost:8080/",
     "height": 34
    },
    "colab_type": "code",
    "id": "8GyKx48mwpGc",
    "outputId": "13980d78-63b7-4656-fca7-d526500acad2"
   },
   "outputs": [
    {
     "name": "stderr",
     "output_type": "stream",
     "text": [
      "Using TensorFlow backend.\n"
     ]
    }
   ],
   "source": [
    "import glob\n",
    "import pickle\n",
    "import numpy\n",
    "from music21 import converter, instrument, note, chord, stream\n",
    "from keras.models import Sequential, load_model\n",
    "from keras.layers import Dense\n",
    "from keras.layers import Dropout\n",
    "from keras.layers import LSTM\n",
    "from keras.layers import Activation\n",
    "from keras.utils import np_utils\n",
    "from keras.callbacks import ModelCheckpoint, EarlyStopping"
   ]
  },
  {
   "cell_type": "markdown",
   "metadata": {},
   "source": [
    "# Get Notes from Music Files"
   ]
  },
  {
   "cell_type": "code",
   "execution_count": 2,
   "metadata": {
    "colab": {
     "base_uri": "https://localhost:8080/",
     "height": 1000
    },
    "colab_type": "code",
    "id": "1OJh9Aqwwt6y",
    "outputId": "c78e1816-1a8b-4dee-ec62-4b5a462fdcbf"
   },
   "outputs": [
    {
     "name": "stdout",
     "output_type": "stream",
     "text": [
      "Parsing midi_songs\\0fithos.mid\n",
      "Parsing midi_songs\\8.mid\n",
      "Parsing midi_songs\\ahead_on_our_way_piano.mid\n",
      "Parsing midi_songs\\AT.mid\n",
      "Parsing midi_songs\\balamb.mid\n",
      "Parsing midi_songs\\bcm.mid\n",
      "Parsing midi_songs\\BlueStone_LastDungeon.mid\n",
      "Parsing midi_songs\\braska.mid\n",
      "Parsing midi_songs\\caitsith.mid\n",
      "Parsing midi_songs\\Cids.mid\n",
      "Parsing midi_songs\\cosmo.mid\n",
      "Parsing midi_songs\\costadsol.mid\n",
      "Parsing midi_songs\\dayafter.mid\n",
      "Parsing midi_songs\\decisive.mid\n",
      "Parsing midi_songs\\dontbeafraid.mid\n",
      "Parsing midi_songs\\DOS.mid\n",
      "Parsing midi_songs\\electric_de_chocobo.mid\n",
      "Parsing midi_songs\\Eternal_Harvest.mid\n",
      "Parsing midi_songs\\EyesOnMePiano.mid\n",
      "Parsing midi_songs\\ff11_awakening_piano.mid\n",
      "Parsing midi_songs\\ff1battp.mid\n",
      "Parsing midi_songs\\FF3_Battle_(Piano).mid\n",
      "Parsing midi_songs\\FF3_Third_Phase_Final_(Piano).mid\n",
      "Parsing midi_songs\\ff4-airship.mid\n",
      "Parsing midi_songs\\Ff4-BattleLust.mid\n",
      "Parsing midi_songs\\ff4-fight1.mid\n",
      "Parsing midi_songs\\ff4-town.mid\n",
      "Parsing midi_songs\\FF4.mid\n",
      "Parsing midi_songs\\ff4pclov.mid\n",
      "Parsing midi_songs\\ff4_piano_collections-main_theme.mid\n",
      "Parsing midi_songs\\FF6epitaph_piano.mid\n",
      "Parsing midi_songs\\ff6shap.mid\n",
      "Parsing midi_songs\\Ff7-Cinco.mid\n",
      "Parsing midi_songs\\Ff7-Jenova_Absolute.mid\n",
      "Parsing midi_songs\\ff7-mainmidi.mid\n",
      "Parsing midi_songs\\Ff7-One_Winged.mid\n",
      "Parsing midi_songs\\ff7themep.mid\n",
      "Parsing midi_songs\\ff8-lfp.mid\n",
      "Parsing midi_songs\\FF8_Shuffle_or_boogie_pc.mid\n",
      "Parsing midi_songs\\FFIII_Edgar_And_Sabin_Piano.mid\n",
      "Parsing midi_songs\\FFIXQuMarshP.mid\n",
      "Parsing midi_songs\\FFIX_Piano.mid\n",
      "Parsing midi_songs\\FFVII_BATTLE.mid\n",
      "Parsing midi_songs\\FFX_-_Ending_Theme_(Piano_Version)_-_by_Angel_FF.mid\n",
      "Parsing midi_songs\\Fiend_Battle_(Piano).mid\n",
      "Parsing midi_songs\\Fierce_Battle_(Piano).mid\n",
      "Parsing midi_songs\\figaro.mid\n",
      "Parsing midi_songs\\Finalfantasy5gilgameshp.mid\n",
      "Parsing midi_songs\\Finalfantasy6fanfarecomplete.mid\n",
      "Parsing midi_songs\\Final_Fantasy_7_-_Judgement_Day_Piano.mid\n",
      "Parsing midi_songs\\Final_Fantasy_Matouyas_Cave_Piano.mid\n",
      "Parsing midi_songs\\fortresscondor.mid\n",
      "Parsing midi_songs\\Fyw_piano.mid\n",
      "Parsing midi_songs\\gerudo.mid\n",
      "Parsing midi_songs\\goldsaucer.mid\n",
      "Parsing midi_songs\\Gold_Silver_Rival_Battle.mid\n",
      "Parsing midi_songs\\great_war.mid\n",
      "Parsing midi_songs\\HighwindTakestotheSkies.mid\n",
      "Parsing midi_songs\\In_Zanarkand.mid\n",
      "Parsing midi_songs\\JENOVA.mid\n",
      "Parsing midi_songs\\Kingdom_Hearts_Dearly_Beloved.mid\n",
      "Parsing midi_songs\\Kingdom_Hearts_Traverse_Town.mid\n",
      "Parsing midi_songs\\Life_Stream.mid\n",
      "Parsing midi_songs\\lurk_in_dark.mid\n",
      "Parsing midi_songs\\mining.mid\n",
      "Parsing midi_songs\\Oppressed.mid\n",
      "Parsing midi_songs\\OTD5YA.mid\n",
      "Parsing midi_songs\\path_of_repentance.mid\n",
      "Parsing midi_songs\\pkelite4.mid\n",
      "Parsing midi_songs\\Rachel_Piano_tempofix.mid\n",
      "Parsing midi_songs\\redwings.mid\n",
      "Parsing midi_songs\\relmstheme-piano.mid\n",
      "Parsing midi_songs\\roseofmay-piano.mid\n",
      "Parsing midi_songs\\rufus.mid\n",
      "Parsing midi_songs\\Rydia_pc.mid\n",
      "Parsing midi_songs\\sandy.mid\n",
      "Parsing midi_songs\\sera_.mid\n",
      "Parsing midi_songs\\sobf.mid\n",
      "Parsing midi_songs\\Still_Alive-1.mid\n",
      "Parsing midi_songs\\Suteki_Da_Ne_(Piano_Version).mid\n",
      "Parsing midi_songs\\thenightmarebegins.mid\n",
      "Parsing midi_songs\\thoughts.mid\n",
      "Parsing midi_songs\\tifap.mid\n",
      "Parsing midi_songs\\tpirtsd-piano.mid\n",
      "Parsing midi_songs\\traitor.mid\n",
      "Parsing midi_songs\\ultimafro.mid\n",
      "Parsing midi_songs\\ultros.mid\n",
      "Parsing midi_songs\\VincentPiano.mid\n",
      "Parsing midi_songs\\ViviinAlexandria.mid\n",
      "Parsing midi_songs\\waltz_de_choco.mid\n",
      "Parsing midi_songs\\Zelda_Overworld.mid\n",
      "Parsing midi_songs\\z_aeristhemepiano.mid\n"
     ]
    }
   ],
   "source": [
    "notes = []\n",
    "\n",
    "\n",
    "for file in glob.glob(\"midi_songs/*.mid\"):\n",
    "    midi = converter.parse(file) #convert the file into stream.Score Object\n",
    "\n",
    "    print(\"Parsing %s\" % file)\n",
    "\n",
    "    notes_to_parse = None\n",
    "\n",
    "\n",
    "    \n",
    "    \n",
    "    \n",
    "#     try: # file has instrument parts\n",
    "#         s2 = instrument.partitionByInstrument(midi)\n",
    "#         notes_to_parse = s2.parts[0].recurse() \n",
    "#     except: # file has notes in a flat structure\n",
    "#         notes_to_parse = midi.flat.notes\n",
    "    \n",
    "    \n",
    "    \n",
    "    \n",
    "    \n",
    "    # unroll / flat the elements (notes/chords) into the list, because elements are sometimes in list of list form.\n",
    "    notes_to_parse = midi.flat.notes   \n",
    "    \n",
    "    \n",
    "    \n",
    "    \n",
    "    # At this point, we have notes_to_parse, which is a Iterator for all the Notes/Chords\n",
    "    \n",
    "    \n",
    "    \n",
    "    \n",
    "    for element in notes_to_parse:\n",
    "        \n",
    "        # If the element is a Note, then store it's pitch\n",
    "        if isinstance(element, note.Note): \n",
    "            notes.append(str(element.pitch))\n",
    "            \n",
    "        # If the element is a Chord, split each note of the chord and join them with +\n",
    "        elif isinstance(element, chord.Chord): \n",
    "            notes.append('+'.join(str(n) for n in element.normalOrder))"
   ]
  },
  {
   "cell_type": "markdown",
   "metadata": {},
   "source": [
    "**Demo of Above Code with single File**"
   ]
  },
  {
   "cell_type": "code",
   "execution_count": 3,
   "metadata": {},
   "outputs": [],
   "source": [
    "midi = converter.parse(\"midi_songs/mining.mid\") #convert the file into stream.Score Object"
   ]
  },
  {
   "cell_type": "code",
   "execution_count": 4,
   "metadata": {},
   "outputs": [
    {
     "data": {
      "text/plain": [
       "<music21.stream.Score 0x17d0f47d608>"
      ]
     },
     "execution_count": 4,
     "metadata": {},
     "output_type": "execute_result"
    }
   ],
   "source": [
    "midi"
   ]
  },
  {
   "cell_type": "code",
   "execution_count": 5,
   "metadata": {},
   "outputs": [],
   "source": [
    "notes_to_parse = midi.flat.notes"
   ]
  },
  {
   "cell_type": "code",
   "execution_count": 6,
   "metadata": {},
   "outputs": [
    {
     "data": {
      "text/plain": [
       "237"
      ]
     },
     "execution_count": 6,
     "metadata": {},
     "output_type": "execute_result"
    }
   ],
   "source": [
    "len(notes_to_parse)"
   ]
  },
  {
   "cell_type": "code",
   "execution_count": 7,
   "metadata": {},
   "outputs": [
    {
     "name": "stdout",
     "output_type": "stream",
     "text": [
      "<music21.chord.Chord D3 A3> 0.0\n",
      "<music21.chord.Chord E3 B3> 0.5\n",
      "<music21.note.Note B> 1.0\n",
      "<music21.note.Note B> 1.0\n",
      "<music21.chord.Chord D3 A3> 1.5\n",
      "<music21.chord.Chord E3 B3> 2.0\n",
      "<music21.chord.Chord D3 A3> 3.0\n",
      "<music21.chord.Chord E3 B3> 3.5\n",
      "<music21.note.Note B> 4.0\n",
      "<music21.chord.Chord D3 A3> 4.5\n",
      "<music21.chord.Chord E3 B3> 5.0\n",
      "<music21.chord.Chord D3 A3> 6.0\n",
      "<music21.chord.Chord E3 B3> 6.5\n",
      "<music21.note.Note B> 7.0\n",
      "<music21.note.Note B> 7.0\n",
      "<music21.chord.Chord D3 A3> 7.5\n",
      "<music21.chord.Chord E3 B3> 8.0\n",
      "<music21.chord.Chord D3 A3> 9.0\n",
      "<music21.chord.Chord E3 B3> 9.5\n",
      "<music21.note.Note B> 10.0\n",
      "<music21.chord.Chord D3 A3> 10.5\n",
      "<music21.chord.Chord E3 B3> 11.0\n",
      "<music21.note.Note G> 11.5\n",
      "<music21.note.Note A> 11.75\n",
      "<music21.note.Note B> 12.0\n",
      "<music21.chord.Chord D3 A3> 12.0\n",
      "<music21.chord.Chord E3 B3> 12.5\n",
      "<music21.note.Note B> 13.0\n",
      "<music21.chord.Chord D3 A3> 13.5\n",
      "<music21.chord.Chord E3 B3> 14.0\n",
      "<music21.note.Note A> 14.5\n",
      "<music21.note.Note G> 14.75\n",
      "<music21.note.Note F#> 15.0\n",
      "<music21.chord.Chord D3 A3> 15.0\n",
      "<music21.chord.Chord E3 B3> 15.5\n",
      "<music21.note.Note B> 16.0\n",
      "<music21.chord.Chord D3 A3> 16.5\n",
      "<music21.chord.Chord E3 B3> 17.0\n",
      "<music21.note.Note E> 17.5\n",
      "<music21.note.Note F#> 17.75\n",
      "<music21.note.Note G> 18.0\n",
      "<music21.chord.Chord D3 A3> 18.0\n",
      "<music21.chord.Chord E3 B3> 18.5\n",
      "<music21.note.Note B> 19.0\n",
      "<music21.chord.Chord D3 A3> 19.5\n",
      "<music21.chord.Chord E3 B3> 20.0\n",
      "<music21.chord.Chord D3 A3> 21.0\n",
      "<music21.note.Note E> 21.25\n",
      "<music21.note.Note G> 21.5\n",
      "<music21.chord.Chord E3 B3> 21.5\n",
      "<music21.note.Note B> 21.75\n",
      "<music21.note.Note A> 22.0\n",
      "<music21.note.Note B> 22.0\n",
      "<music21.note.Note E> 22.25\n",
      "<music21.note.Note G> 22.5\n",
      "<music21.chord.Chord D3 A3> 22.5\n",
      "<music21.note.Note B> 22.75\n",
      "<music21.note.Note A> 23.0\n",
      "<music21.chord.Chord E3 B3> 23.0\n",
      "<music21.note.Note G> 23.5\n",
      "<music21.note.Note A> 23.75\n",
      "<music21.note.Note B> 24.0\n",
      "<music21.chord.Chord D3 A3> 24.0\n",
      "<music21.chord.Chord E3 B3> 24.5\n",
      "<music21.note.Note B> 25.0\n",
      "<music21.chord.Chord D3 A3> 25.5\n",
      "<music21.chord.Chord E3 B3> 26.0\n",
      "<music21.note.Note A> 26.5\n",
      "<music21.note.Note G> 26.75\n",
      "<music21.note.Note F#> 27.0\n",
      "<music21.chord.Chord D3 A3> 27.0\n",
      "<music21.chord.Chord E3 B3> 27.5\n",
      "<music21.note.Note B> 28.0\n",
      "<music21.chord.Chord D3 A3> 28.5\n",
      "<music21.chord.Chord E3 B3> 29.0\n",
      "<music21.note.Note E> 29.5\n",
      "<music21.note.Note F#> 29.75\n",
      "<music21.note.Note G> 30.0\n",
      "<music21.chord.Chord D3 A3> 30.0\n",
      "<music21.chord.Chord E3 B3> 30.5\n",
      "<music21.note.Note B> 31.0\n",
      "<music21.chord.Chord D3 A3> 31.5\n",
      "<music21.chord.Chord E3 B3> 32.0\n",
      "<music21.chord.Chord D3 A3> 33.0\n",
      "<music21.note.Note E> 33.25\n",
      "<music21.note.Note G> 33.5\n",
      "<music21.chord.Chord E3 B3> 33.5\n",
      "<music21.note.Note B> 33.75\n",
      "<music21.note.Note A> 34.0\n",
      "<music21.note.Note B> 34.0\n",
      "<music21.note.Note E> 34.25\n",
      "<music21.note.Note G> 34.5\n",
      "<music21.chord.Chord D3 A3> 34.5\n",
      "<music21.note.Note B> 34.75\n",
      "<music21.note.Note A> 35.0\n",
      "<music21.chord.Chord E3 B3> 35.0\n",
      "<music21.note.Note G> 35.5\n",
      "<music21.note.Note A> 35.75\n",
      "<music21.chord.Chord D3 A3> 36.0\n",
      "<music21.note.Note E> 36.25\n",
      "<music21.note.Note G> 36.5\n",
      "<music21.chord.Chord E3 B3> 36.5\n",
      "<music21.note.Note B> 36.75\n",
      "<music21.note.Note D> 37.0\n",
      "<music21.note.Note B> 37.0\n",
      "<music21.note.Note C#> 37.25\n",
      "<music21.note.Note B> 37.5\n",
      "<music21.chord.Chord D3 A3> 37.5\n",
      "<music21.note.Note A> 38.0\n",
      "<music21.chord.Chord E3 B3> 38.0\n",
      "<music21.note.Note C#> 38.25\n",
      "<music21.note.Note B> 38.5\n",
      "<music21.note.Note G> 39.0\n",
      "<music21.chord.Chord D3 A3> 39.0\n",
      "<music21.note.Note A> 39.5\n",
      "<music21.chord.Chord E3 B3> 39.5\n",
      "<music21.note.Note B> 40.0\n",
      "<music21.note.Note F#> 40.25\n",
      "<music21.note.Note G> 40.5\n",
      "<music21.chord.Chord D3 A3> 40.5\n",
      "<music21.note.Note F#> 41.0\n",
      "<music21.note.Note F> 41.0\n",
      "<music21.chord.Chord E3 B3> 41.0\n",
      "<music21.note.Note E> 41.25\n",
      "<music21.chord.Chord E4 G4> 42.0\n",
      "<music21.chord.Chord D3 A3> 42.0\n",
      "<music21.chord.Chord E3 B3> 42.5\n",
      "<music21.note.Note B> 43.0\n",
      "<music21.chord.Chord D4 F#4> 43.5\n",
      "<music21.chord.Chord D3 A3> 43.5\n",
      "<music21.chord.Chord E3 B3> 44.0\n",
      "<music21.chord.Chord C#4 E4> 45.0\n",
      "<music21.chord.Chord D3 A3> 45.0\n",
      "<music21.chord.Chord E3 B3> 45.5\n",
      "<music21.note.Note B> 46.0\n",
      "<music21.chord.Chord D3 A3> 46.5\n",
      "<music21.chord.Chord E3 B3> 47.0\n",
      "<music21.chord.Chord D3 A3> 48.0\n",
      "<music21.note.Note E> 48.25\n",
      "<music21.note.Note G> 48.5\n",
      "<music21.chord.Chord E3 B3> 48.5\n",
      "<music21.note.Note B> 48.75\n",
      "<music21.note.Note D> 49.0\n",
      "<music21.note.Note B> 49.0\n",
      "<music21.note.Note C#> 49.25\n",
      "<music21.note.Note B> 49.5\n",
      "<music21.chord.Chord D3 A3> 49.5\n",
      "<music21.note.Note A> 50.0\n",
      "<music21.chord.Chord E3 B3> 50.0\n",
      "<music21.note.Note C#> 50.25\n",
      "<music21.note.Note B> 50.5\n",
      "<music21.note.Note G> 51.0\n",
      "<music21.chord.Chord D3 A3> 51.0\n",
      "<music21.note.Note A> 51.5\n",
      "<music21.chord.Chord E3 B3> 51.5\n",
      "<music21.note.Note B> 52.0\n",
      "<music21.note.Note F#> 52.25\n",
      "<music21.note.Note G> 52.5\n",
      "<music21.chord.Chord D3 A3> 52.5\n",
      "<music21.note.Note F#> 53.0\n",
      "<music21.note.Note F> 53.0\n",
      "<music21.chord.Chord E3 B3> 53.0\n",
      "<music21.note.Note E> 53.25\n",
      "<music21.chord.Chord E4 G4> 54.0\n",
      "<music21.chord.Chord D3 A3> 54.0\n",
      "<music21.chord.Chord E3 B3> 54.5\n",
      "<music21.note.Note B> 55.0\n",
      "<music21.chord.Chord D4 F#4> 55.5\n",
      "<music21.chord.Chord D3 A3> 55.5\n",
      "<music21.chord.Chord E3 B3> 56.0\n",
      "<music21.chord.Chord G4 B4> 57.0\n",
      "<music21.chord.Chord D3 A3> 57.0\n",
      "<music21.chord.Chord E3 B3> 57.5\n",
      "<music21.note.Note B> 58.0\n",
      "<music21.chord.Chord D3 A3> 58.5\n",
      "<music21.chord.Chord E3 B3> 59.0\n",
      "<music21.note.Note A> 59.5\n",
      "<music21.note.Note B> 59.75\n",
      "<music21.note.Note C> 60.0\n",
      "<music21.chord.Chord E3 A3> 60.0\n",
      "<music21.chord.Chord F3 C4> 60.5\n",
      "<music21.note.Note C> 61.0\n",
      "<music21.chord.Chord E3 A3> 61.5\n",
      "<music21.chord.Chord F3 C4> 62.0\n",
      "<music21.note.Note B> 62.5\n",
      "<music21.note.Note A> 62.75\n",
      "<music21.note.Note G> 63.0\n",
      "<music21.chord.Chord D3 A3> 63.0\n",
      "<music21.chord.Chord E3 B3> 63.5\n",
      "<music21.note.Note B> 64.0\n",
      "<music21.chord.Chord D3 A3> 64.5\n",
      "<music21.chord.Chord E3 B3> 65.0\n",
      "<music21.note.Note B> 65.5\n",
      "<music21.note.Note C#> 65.75\n",
      "<music21.note.Note D> 66.0\n",
      "<music21.chord.Chord D3 B3> 66.0\n",
      "<music21.chord.Chord F#3 D4> 66.5\n",
      "<music21.chord.Chord B2 F#3> 67.0\n",
      "<music21.chord.Chord D3 B3> 67.5\n",
      "<music21.chord.Chord F#3 C4> 68.0\n",
      "<music21.note.Note C#> 68.5\n",
      "<music21.note.Note B> 68.75\n",
      "<music21.note.Note A> 69.0\n",
      "<music21.chord.Chord E-3 A3> 69.0\n",
      "<music21.chord.Chord F#3 C#4> 69.5\n",
      "<music21.chord.Chord A2 F#3> 70.0\n",
      "<music21.chord.Chord C#3 A3> 70.5\n",
      "<music21.chord.Chord F#3 C#4> 71.0\n",
      "<music21.note.Note A> 71.5\n",
      "<music21.note.Note B> 71.75\n",
      "<music21.note.Note C> 72.0\n",
      "<music21.chord.Chord E3 A3> 72.0\n",
      "<music21.chord.Chord F3 C4> 72.5\n",
      "<music21.note.Note C> 73.0\n",
      "<music21.chord.Chord E3 A3> 73.5\n",
      "<music21.chord.Chord F3 C4> 74.0\n",
      "<music21.note.Note B> 74.5\n",
      "<music21.note.Note A> 74.75\n",
      "<music21.note.Note G> 75.0\n",
      "<music21.chord.Chord E3 A3> 75.0\n",
      "<music21.chord.Chord F3 C4> 75.5\n",
      "<music21.chord.Chord C3 E3> 76.0\n",
      "<music21.chord.Chord D3 G3> 76.5\n",
      "<music21.chord.Chord E3 C4> 77.0\n",
      "<music21.note.Note E> 77.5\n",
      "<music21.note.Note G> 77.75\n",
      "<music21.note.Note F#> 78.0\n",
      "<music21.chord.Chord D3 A3> 78.0\n",
      "<music21.chord.Chord E3 B3> 78.5\n",
      "<music21.chord.Chord B2 F#3> 79.0\n",
      "<music21.chord.Chord D3 A3> 79.5\n",
      "<music21.chord.Chord E3 B3> 80.0\n",
      "<music21.chord.Chord D3 A3> 81.0\n",
      "<music21.chord.Chord E3 B3> 81.5\n",
      "<music21.chord.Chord B2 F#3> 82.0\n",
      "<music21.chord.Chord D3 A3> 82.5\n",
      "<music21.chord.Chord E3 B3> 83.0\n"
     ]
    }
   ],
   "source": [
    "#  Here offset is 0.5 everytime\n",
    "for i in notes_to_parse:\n",
    "    print(i, i.offset)"
   ]
  },
  {
   "cell_type": "code",
   "execution_count": 8,
   "metadata": {},
   "outputs": [],
   "source": [
    "notes_demo= []\n",
    "for element in notes_to_parse:\n",
    "    # If the element is a Note, then store it's pitch\n",
    "    if isinstance(element, note.Note): \n",
    "        notes_demo.append(str(element.pitch))\n",
    "\n",
    "    # If the element is a Chord, split each note of the chord and join them with dot\n",
    "    elif isinstance(element, chord.Chord): \n",
    "        notes_demo.append('+'.join(str(n) for n in element.normalOrder))"
   ]
  },
  {
   "cell_type": "code",
   "execution_count": 9,
   "metadata": {},
   "outputs": [
    {
     "name": "stdout",
     "output_type": "stream",
     "text": [
      "['9+2', '11+4', 'B5', 'B2', '9+2', '11+4', '9+2', '11+4', 'B2', '9+2', '11+4', '9+2', '11+4', 'B5', 'B2']\n"
     ]
    }
   ],
   "source": [
    "# got the notes and chords\n",
    "print(notes_demo[:15])"
   ]
  },
  {
   "cell_type": "code",
   "execution_count": null,
   "metadata": {},
   "outputs": [],
   "source": []
  },
  {
   "cell_type": "code",
   "execution_count": null,
   "metadata": {},
   "outputs": [],
   "source": []
  },
  {
   "cell_type": "code",
   "execution_count": null,
   "metadata": {},
   "outputs": [],
   "source": []
  },
  {
   "cell_type": "code",
   "execution_count": 10,
   "metadata": {
    "colab": {},
    "colab_type": "code",
    "id": "nGnWYnrKxUsg"
   },
   "outputs": [],
   "source": [
    "with open('data/notes_easy', 'wb') as filepath:\n",
    "    pickle.dump(notes, filepath)"
   ]
  },
  {
   "cell_type": "code",
   "execution_count": 11,
   "metadata": {
    "colab": {},
    "colab_type": "code",
    "id": "RGB1lW-VdLnj"
   },
   "outputs": [],
   "source": [
    "with open('data/notes_easy', 'rb') as filepath:\n",
    "    notes = pickle.load(filepath)"
   ]
  },
  {
   "cell_type": "code",
   "execution_count": 12,
   "metadata": {
    "colab": {},
    "colab_type": "code",
    "id": "P9sW967FdNkL"
   },
   "outputs": [],
   "source": [
    "n_vocab = len(set(notes))"
   ]
  },
  {
   "cell_type": "code",
   "execution_count": 13,
   "metadata": {
    "colab": {
     "base_uri": "https://localhost:8080/",
     "height": 51
    },
    "colab_type": "code",
    "id": "XI6jXz6KdPhT",
    "outputId": "08c5fbbf-2625-40f1-ad4a-754a394facb2"
   },
   "outputs": [
    {
     "name": "stdout",
     "output_type": "stream",
     "text": [
      "Total notes-  60498\n",
      "Unique Notes-  359\n"
     ]
    }
   ],
   "source": [
    "print(\"Total notes- \",len(notes))\n",
    "print(\"Unique Notes- \",n_vocab)"
   ]
  },
  {
   "cell_type": "code",
   "execution_count": 14,
   "metadata": {
    "colab": {
     "base_uri": "https://localhost:8080/",
     "height": 54
    },
    "colab_type": "code",
    "id": "zuXrKEGSdRws",
    "outputId": "586ca0b0-0901-40df-b90a-f886227e7b59"
   },
   "outputs": [
    {
     "name": "stdout",
     "output_type": "stream",
     "text": [
      "['4+9', 'E2', '4+9', '4+9', '4+9', '4+9', '4+9', '4+9', '4+9', '11+4', '4+9', '11+4', '4+9', '4+9', '4+9', '4+9', '4+9', '0+4', 'E2', '4+9', '0+4', '4+9', '4+9', '4+9', '4+9', '4+9', '9+2', '4+9', '9+2', '9+2', '4+9', '4+9', '4+9', '4+9', '4+9', '4+9', 'E2', '4+9', '4+9', '4+9', '4+9', '4+9', 'E5', 'F5', 'G#5', 'A5', '4+9', '4+9', '5+11', '4+9', '5+11', '4+9', '4+9', '4+9', 'E5', 'F5', 'G#5', 'A5', '4+9', '4+9', '9+0', 'E2', '4+9', '9+0', '4+9', '4+9', '4+9', 'E5', 'F5', 'G#5', 'A5', '4+9', '4+9', '11+2', '4+9', '11+2', '11+2', '4+9', '4+9', '4+9', 'E5', 'F5', 'G#5', 'A5', '4+9', '4+9', '3+7+11', 'E-2', '3+7+11', 'B2', 'G2', '1+5+9', 'F#2', '1+5+9', '3+7+11', 'E-2', '3+7+11', 'G2', 'B2', 'E-3']\n"
     ]
    }
   ],
   "source": [
    "# notes is a list of all the notes in each music file - 60000\n",
    "print(notes[:100])"
   ]
  },
  {
   "cell_type": "markdown",
   "metadata": {
    "colab_type": "text",
    "id": "RwCv2Kd0daHB"
   },
   "source": [
    "# Prepare Sequential Data for LSTM"
   ]
  },
  {
   "cell_type": "code",
   "execution_count": 15,
   "metadata": {
    "colab": {},
    "colab_type": "code",
    "id": "IPvnjjZNdUB5"
   },
   "outputs": [],
   "source": [
    "#  How many elements LSTM input should consider\n",
    "sequence_length = 100"
   ]
  },
  {
   "cell_type": "code",
   "execution_count": 16,
   "metadata": {
    "colab": {},
    "colab_type": "code",
    "id": "Miz0B0QLdlS0"
   },
   "outputs": [],
   "source": [
    "# ALl the unique elements in a sorted manner\n",
    "pitchnames = sorted(set(item for item in notes))"
   ]
  },
  {
   "cell_type": "code",
   "execution_count": 17,
   "metadata": {
    "colab": {
     "base_uri": "https://localhost:8080/",
     "height": 54
    },
    "colab_type": "code",
    "id": "UTm_K1Bhdmxz",
    "outputId": "bdd22e61-b49c-41ad-ccd5-6f35c4c7eb31"
   },
   "outputs": [
    {
     "name": "stdout",
     "output_type": "stream",
     "text": [
      "{'0': 0, '0+1': 1, '0+1+5': 2, '0+1+6': 3, '0+2': 4, '0+2+3+7': 5, '0+2+4+7': 6, '0+2+5': 7, '0+2+6': 8, '0+2+7': 9, '0+3': 10, '0+3+5': 11, '0+3+5+8': 12, '0+3+6': 13, '0+3+6+8': 14, '0+3+6+9': 15, '0+3+7': 16, '0+4': 17, '0+4+5': 18, '0+4+6': 19, '0+4+7': 20, '0+5': 21, '0+5+6': 22, '0+6': 23, '1': 24, '1+2': 25, '1+2+4+6+8+10': 26, '1+2+6': 27, '1+2+6+8': 28, '1+3': 29, '1+3+5': 30, '1+3+5+8': 31, '1+3+6': 32, '1+3+7': 33, '1+3+8': 34, '1+4': 35, '1+4+6': 36, '1+4+6+9': 37, '1+4+7': 38, '1+4+7+10': 39, '1+4+7+9': 40, '1+4+8': 41, '1+5': 42, '1+5+8': 43, '1+5+9': 44, '1+6': 45, '1+7': 46, '10': 47, '10+0': 48, '10+0+2+5': 49, '10+0+3': 50, '10+0+4': 51, '10+0+5': 52, '10+1': 53, '10+1+3': 54, '10+1+3+5+6': 55, '10+1+3+6': 56, '10+1+4': 57, '10+1+4+6': 58, '10+1+5': 59, '10+11': 60, '10+11+3': 61, '10+11+3+5': 62, '10+2': 63, '10+2+3': 64, '10+2+4': 65, '10+2+5': 66, '10+3': 67, '11': 68, '11+0': 69, '11+0+4': 70, '11+0+4+6': 71, '11+0+4+7': 72, '11+0+5': 73, '11+1': 74, '11+1+4': 75, '11+1+4+5': 76, '11+1+5': 77, '11+1+6': 78, '11+2': 79, '11+2+4': 80, '11+2+4+6': 81, '11+2+4+7': 82, '11+2+5': 83, '11+2+5+7': 84, '11+2+6': 85, '11+3': 86, '11+3+5': 87, '11+3+6': 88, '11+4': 89, '11+4+5': 90, '2': 91, '2+3': 92, '2+3+7': 93, '2+3+7+10': 94, '2+3+7+9': 95, '2+4': 96, '2+4+5': 97, '2+4+5+9': 98, '2+4+6+9+11': 99, '2+4+7': 100, '2+4+7+10': 101, '2+4+8': 102, '2+4+9': 103, '2+5': 104, '2+5+7': 105, '2+5+7+10': 106, '2+5+8': 107, '2+5+8+10': 108, '2+5+8+11': 109, '2+5+9': 110, '2+6': 111, '2+6+10': 112, '2+6+7': 113, '2+6+7+9': 114, '2+6+9': 115, '2+7': 116, '2+7+8': 117, '2+8': 118, '3': 119, '3+4': 120, '3+4+8': 121, '3+4+8+10': 122, '3+5': 123, '3+5+10': 124, '3+5+7': 125, '3+5+7+10': 126, '3+5+7+8+11': 127, '3+5+8': 128, '3+5+8+11': 129, '3+6': 130, '3+6+10': 131, '3+6+7': 132, '3+6+8': 133, '3+6+9+11': 134, '3+7': 135, '3+7+10': 136, '3+7+11': 137, '3+7+9': 138, '3+7+9+10': 139, '3+8': 140, '3+8+9': 141, '3+9': 142, '4': 143, '4+10': 144, '4+5': 145, '4+5+7+11': 146, '4+5+9': 147, '4+5+9+0': 148, '4+5+9+11': 149, '4+6': 150, '4+6+10': 151, '4+6+11': 152, '4+6+7': 153, '4+6+8': 154, '4+6+8+11+1': 155, '4+6+9': 156, '4+6+9+11': 157, '4+7': 158, '4+7+10': 159, '4+7+11': 160, '4+7+9': 161, '4+7+9+0': 162, '4+7+9+11': 163, '4+8': 164, '4+8+10': 165, '4+8+11': 166, '4+8+9': 167, '4+8+9+11': 168, '4+9': 169, '4+9+10': 170, '5': 171, '5+10': 172, '5+10+11': 173, '5+11': 174, '5+6': 175, '5+7': 176, '5+7+0': 177, '5+7+10': 178, '5+7+8+0': 179, '5+8': 180, '5+8+0': 181, '5+8+10': 182, '5+8+11': 183, '5+9': 184, '5+9+0': 185, '5+9+11': 186, '5+9+11+0': 187, '6': 188, '6+10': 189, '6+10+0': 190, '6+10+1': 191, '6+10+11': 192, '6+10+11+1': 193, '6+11': 194, '6+11+0': 195, '6+7': 196, '6+7+0': 197, '6+7+11': 198, '6+7+11+2': 199, '6+8': 200, '6+8+0': 201, '6+8+1': 202, '6+8+10': 203, '6+8+10+0+3': 204, '6+8+11': 205, '6+8+11+2': 206, '6+9': 207, '6+9+0': 208, '6+9+0+2': 209, '6+9+1': 210, '6+9+11': 211, '6+9+11+2': 212, '7': 213, '7+0': 214, '7+10': 215, '7+10+0': 216, '7+10+0+3': 217, '7+10+1': 218, '7+10+1+3': 219, '7+10+2': 220, '7+11': 221, '7+11+0': 222, '7+11+2': 223, '7+8': 224, '7+8+0': 225, '7+8+0+3': 226, '7+8+10+2': 227, '7+8+11': 228, '7+9': 229, '7+9+0': 230, '7+9+1': 231, '7+9+11': 232, '7+9+11+2': 233, '7+9+2': 234, '8': 235, '8+0': 236, '8+0+1': 237, '8+0+2': 238, '8+0+3': 239, '8+1': 240, '8+10': 241, '8+10+0': 242, '8+10+1': 243, '8+10+11+1+4': 244, '8+10+11+3': 245, '8+10+2': 246, '8+10+3': 247, '8+11': 248, '8+11+1': 249, '8+11+1+4': 250, '8+11+2': 251, '8+11+3': 252, '8+9': 253, '8+9+1': 254, '8+9+1+3': 255, '8+9+1+4': 256, '8+9+11+1': 257, '8+9+2': 258, '9': 259, '9+0': 260, '9+0+2': 261, '9+0+2+4': 262, '9+0+2+5': 263, '9+0+3': 264, '9+0+3+5': 265, '9+0+4': 266, '9+1': 267, '9+1+4': 268, '9+10': 269, '9+10+2': 270, '9+10+2+4': 271, '9+11': 272, '9+11+0+4': 273, '9+11+1': 274, '9+11+2': 275, '9+11+2+4': 276, '9+11+2+5': 277, '9+11+3': 278, '9+11+4': 279, '9+2': 280, '9+2+3': 281, 'A0': 282, 'A1': 283, 'A2': 284, 'A3': 285, 'A4': 286, 'A5': 287, 'A6': 288, 'B-1': 289, 'B-2': 290, 'B-3': 291, 'B-4': 292, 'B-5': 293, 'B-6': 294, 'B0': 295, 'B1': 296, 'B2': 297, 'B3': 298, 'B4': 299, 'B5': 300, 'B6': 301, 'C#1': 302, 'C#2': 303, 'C#3': 304, 'C#4': 305, 'C#5': 306, 'C#6': 307, 'C#7': 308, 'C1': 309, 'C2': 310, 'C3': 311, 'C4': 312, 'C5': 313, 'C6': 314, 'C7': 315, 'D1': 316, 'D2': 317, 'D3': 318, 'D4': 319, 'D5': 320, 'D6': 321, 'D7': 322, 'E-1': 323, 'E-2': 324, 'E-3': 325, 'E-4': 326, 'E-5': 327, 'E-6': 328, 'E1': 329, 'E2': 330, 'E3': 331, 'E4': 332, 'E5': 333, 'E6': 334, 'F#1': 335, 'F#2': 336, 'F#3': 337, 'F#4': 338, 'F#5': 339, 'F#6': 340, 'F1': 341, 'F2': 342, 'F3': 343, 'F4': 344, 'F5': 345, 'F6': 346, 'G#1': 347, 'G#2': 348, 'G#3': 349, 'G#4': 350, 'G#5': 351, 'G#6': 352, 'G1': 353, 'G2': 354, 'G3': 355, 'G4': 356, 'G5': 357, 'G6': 358}\n"
     ]
    }
   ],
   "source": [
    "# Mapping between note to int value\n",
    "note_to_int = dict((note, number) for number, note in enumerate(pitchnames))\n",
    "print(note_to_int)"
   ]
  },
  {
   "cell_type": "code",
   "execution_count": 18,
   "metadata": {
    "colab": {},
    "colab_type": "code",
    "id": "hfiug-SDdoTa"
   },
   "outputs": [],
   "source": [
    "network_input = []\n",
    "network_output = []"
   ]
  },
  {
   "cell_type": "code",
   "execution_count": 19,
   "metadata": {
    "colab": {},
    "colab_type": "code",
    "id": "Xm4KzSQcdqgA"
   },
   "outputs": [],
   "source": [
    "# Make the data for LSTM Network\n",
    "# Each Node will contain 100 input units\n",
    "# Output will be the next unit in notes list\n",
    "\n",
    "for i in range(0, len(notes) - sequence_length, 1):\n",
    "    \n",
    "    sequence_in = notes[i:i + sequence_length] # contains 100 values \n",
    "    sequence_out = notes[i + sequence_length] # containes next values for these 100's\n",
    "    \n",
    "    # Since NN works with numeric data only, append the int values for inputs and outputs.\n",
    "    network_input.append([note_to_int[char] for char in sequence_in])\n",
    "    network_output.append(note_to_int[sequence_out])"
   ]
  },
  {
   "cell_type": "code",
   "execution_count": 20,
   "metadata": {
    "colab": {
     "base_uri": "https://localhost:8080/",
     "height": 34
    },
    "colab_type": "code",
    "id": "vIshFM_HdsVk",
    "outputId": "ea33050b-03b8-46e6-e823-f9b34914e2e2"
   },
   "outputs": [
    {
     "name": "stdout",
     "output_type": "stream",
     "text": [
      "60398\n"
     ]
    }
   ],
   "source": [
    "# No. of examples for our network\n",
    "\n",
    "n_patterns = len(network_input)\n",
    "print(n_patterns)"
   ]
  },
  {
   "cell_type": "code",
   "execution_count": 21,
   "metadata": {
    "colab": {
     "base_uri": "https://localhost:8080/",
     "height": 34
    },
    "colab_type": "code",
    "id": "m8OOfX4bduJV",
    "outputId": "971e08eb-e908-4adb-d32a-b83c806d965f"
   },
   "outputs": [
    {
     "name": "stdout",
     "output_type": "stream",
     "text": [
      "(60398, 100, 1)\n"
     ]
    }
   ],
   "source": [
    "# ight now network_input is lits, but reshape it into a format compatible with LSTM layers\n",
    "network_input = numpy.reshape(network_input, (n_patterns, sequence_length, 1))\n",
    "print(network_input.shape)"
   ]
  },
  {
   "cell_type": "code",
   "execution_count": 22,
   "metadata": {
    "colab": {},
    "colab_type": "code",
    "id": "uBNZWPfodv4P"
   },
   "outputs": [],
   "source": [
    "normalised_network_input = network_input/float(n_vocab)"
   ]
  },
  {
   "cell_type": "code",
   "execution_count": 23,
   "metadata": {
    "colab": {},
    "colab_type": "code",
    "id": "1rtXGfoxdxSk"
   },
   "outputs": [],
   "source": [
    "# network_output are the classes, encode one_hot_vector\n",
    "network_output = np_utils.to_categorical(network_output)"
   ]
  },
  {
   "cell_type": "code",
   "execution_count": 24,
   "metadata": {
    "colab": {
     "base_uri": "https://localhost:8080/",
     "height": 51
    },
    "colab_type": "code",
    "id": "Nyvhi9RFdzB3",
    "outputId": "4729cc94-9cc2-4ba4-ec52-cb85624aec43"
   },
   "outputs": [
    {
     "name": "stdout",
     "output_type": "stream",
     "text": [
      "(60398, 359)\n",
      "(60398, 100, 1)\n"
     ]
    }
   ],
   "source": [
    "print(network_output.shape)\n",
    "print(normalised_network_input.shape)"
   ]
  },
  {
   "cell_type": "markdown",
   "metadata": {
    "colab_type": "text",
    "id": "6WW-JVQ-d--S"
   },
   "source": [
    "# Create Model"
   ]
  },
  {
   "cell_type": "code",
   "execution_count": 25,
   "metadata": {
    "colab": {
     "base_uri": "https://localhost:8080/",
     "height": 309
    },
    "colab_type": "code",
    "id": "uH7xWxA3d0r8",
    "outputId": "8f1108cb-a6b5-42be-9a40-6f2d8831692b"
   },
   "outputs": [],
   "source": [
    "\"\"\" create the structure of the neural network \"\"\"\n",
    "model = Sequential()\n",
    "model.add(LSTM(512,\n",
    "            input_shape=(network_input.shape[1], network_input.shape[2]),\n",
    "            return_sequences=True ))\n",
    "model.add(Dropout(0.3))\n",
    "model.add(LSTM(512, return_sequences=True))\n",
    "model.add(Dropout(0.3))\n",
    "model.add(LSTM(512))\n",
    "model.add(Dense(256))\n",
    "model.add(Dropout(0.3))\n",
    "model.add(Dense(n_vocab))\n",
    "model.add(Activation('softmax'))\n",
    "model.compile(loss='categorical_crossentropy', optimizer='rmsprop')"
   ]
  },
  {
   "cell_type": "code",
   "execution_count": 26,
   "metadata": {
    "colab": {
     "base_uri": "https://localhost:8080/",
     "height": 442
    },
    "colab_type": "code",
    "id": "cf3rFS5PeG-D",
    "outputId": "099737e5-351a-4270-8dbe-a238c0936bb8"
   },
   "outputs": [
    {
     "name": "stdout",
     "output_type": "stream",
     "text": [
      "Model: \"sequential_1\"\n",
      "_________________________________________________________________\n",
      "Layer (type)                 Output Shape              Param #   \n",
      "=================================================================\n",
      "lstm_1 (LSTM)                (None, 100, 512)          1052672   \n",
      "_________________________________________________________________\n",
      "dropout_1 (Dropout)          (None, 100, 512)          0         \n",
      "_________________________________________________________________\n",
      "lstm_2 (LSTM)                (None, 100, 512)          2099200   \n",
      "_________________________________________________________________\n",
      "dropout_2 (Dropout)          (None, 100, 512)          0         \n",
      "_________________________________________________________________\n",
      "lstm_3 (LSTM)                (None, 512)               2099200   \n",
      "_________________________________________________________________\n",
      "dense_1 (Dense)              (None, 256)               131328    \n",
      "_________________________________________________________________\n",
      "dropout_3 (Dropout)          (None, 256)               0         \n",
      "_________________________________________________________________\n",
      "dense_2 (Dense)              (None, 359)               92263     \n",
      "_________________________________________________________________\n",
      "activation_1 (Activation)    (None, 359)               0         \n",
      "=================================================================\n",
      "Total params: 5,474,663\n",
      "Trainable params: 5,474,663\n",
      "Non-trainable params: 0\n",
      "_________________________________________________________________\n"
     ]
    }
   ],
   "source": [
    "model.summary()"
   ]
  },
  {
   "cell_type": "code",
   "execution_count": 27,
   "metadata": {
    "colab": {
     "base_uri": "https://localhost:8080/",
     "height": 1000
    },
    "colab_type": "code",
    "id": "0SElpa-7eJVI",
    "outputId": "f720a55d-2958-4d05-9087-73afb1a4920d"
   },
   "outputs": [
    {
     "name": "stdout",
     "output_type": "stream",
     "text": [
      "Epoch 1/100\n",
      "  256/60398 [..............................] - ETA: 1:33:41 - loss: 5.9386"
     ]
    },
    {
     "name": "stderr",
     "output_type": "stream",
     "text": [
      "ERROR:root:Internal Python error in the inspect module.\n",
      "Below is the traceback from this internal error.\n",
      "\n"
     ]
    },
    {
     "name": "stdout",
     "output_type": "stream",
     "text": [
      "Traceback (most recent call last):\n",
      "  File \"c:\\users\\91971\\appdata\\local\\programs\\python\\python37\\lib\\site-packages\\IPython\\core\\interactiveshell.py\", line 3326, in run_code\n",
      "    exec(code_obj, self.user_global_ns, self.user_ns)\n",
      "  File \"<ipython-input-27-be37774a5538>\", line 14, in <module>\n",
      "    model_his = model.fit(network_input, network_output, epochs=100, batch_size=64, callbacks=callbacks_list)\n",
      "  File \"c:\\users\\91971\\appdata\\local\\programs\\python\\python37\\lib\\site-packages\\keras\\engine\\training.py\", line 1239, in fit\n",
      "    validation_freq=validation_freq)\n",
      "  File \"c:\\users\\91971\\appdata\\local\\programs\\python\\python37\\lib\\site-packages\\keras\\engine\\training_arrays.py\", line 196, in fit_loop\n",
      "    outs = fit_function(ins_batch)\n",
      "  File \"c:\\users\\91971\\appdata\\local\\programs\\python\\python37\\lib\\site-packages\\tensorflow_core\\python\\keras\\backend.py\", line 3740, in __call__\n",
      "    outputs = self._graph_fn(*converted_inputs)\n",
      "  File \"c:\\users\\91971\\appdata\\local\\programs\\python\\python37\\lib\\site-packages\\tensorflow_core\\python\\eager\\function.py\", line 1081, in __call__\n",
      "    return self._call_impl(args, kwargs)\n",
      "  File \"c:\\users\\91971\\appdata\\local\\programs\\python\\python37\\lib\\site-packages\\tensorflow_core\\python\\eager\\function.py\", line 1121, in _call_impl\n",
      "    return self._call_flat(args, self.captured_inputs, cancellation_manager)\n",
      "  File \"c:\\users\\91971\\appdata\\local\\programs\\python\\python37\\lib\\site-packages\\tensorflow_core\\python\\eager\\function.py\", line 1224, in _call_flat\n",
      "    ctx, args, cancellation_manager=cancellation_manager)\n",
      "  File \"c:\\users\\91971\\appdata\\local\\programs\\python\\python37\\lib\\site-packages\\tensorflow_core\\python\\eager\\function.py\", line 511, in call\n",
      "    ctx=ctx)\n",
      "  File \"c:\\users\\91971\\appdata\\local\\programs\\python\\python37\\lib\\site-packages\\tensorflow_core\\python\\eager\\execute.py\", line 61, in quick_execute\n",
      "    num_outputs)\n",
      "KeyboardInterrupt\n",
      "\n",
      "During handling of the above exception, another exception occurred:\n",
      "\n",
      "Traceback (most recent call last):\n",
      "  File \"c:\\users\\91971\\appdata\\local\\programs\\python\\python37\\lib\\site-packages\\IPython\\core\\interactiveshell.py\", line 2040, in showtraceback\n",
      "    stb = value._render_traceback_()\n",
      "AttributeError: 'KeyboardInterrupt' object has no attribute '_render_traceback_'\n",
      "\n",
      "During handling of the above exception, another exception occurred:\n",
      "\n",
      "Traceback (most recent call last):\n",
      "  File \"c:\\users\\91971\\appdata\\local\\programs\\python\\python37\\lib\\site-packages\\IPython\\core\\ultratb.py\", line 1101, in get_records\n",
      "    return _fixed_getinnerframes(etb, number_of_lines_of_context, tb_offset)\n",
      "  File \"c:\\users\\91971\\appdata\\local\\programs\\python\\python37\\lib\\site-packages\\IPython\\core\\ultratb.py\", line 319, in wrapped\n",
      "    return f(*args, **kwargs)\n",
      "  File \"c:\\users\\91971\\appdata\\local\\programs\\python\\python37\\lib\\site-packages\\IPython\\core\\ultratb.py\", line 353, in _fixed_getinnerframes\n",
      "    records = fix_frame_records_filenames(inspect.getinnerframes(etb, context))\n",
      "  File \"c:\\users\\91971\\appdata\\local\\programs\\python\\python37\\lib\\inspect.py\", line 1502, in getinnerframes\n",
      "    frameinfo = (tb.tb_frame,) + getframeinfo(tb, context)\n",
      "  File \"c:\\users\\91971\\appdata\\local\\programs\\python\\python37\\lib\\inspect.py\", line 1460, in getframeinfo\n",
      "    filename = getsourcefile(frame) or getfile(frame)\n",
      "  File \"c:\\users\\91971\\appdata\\local\\programs\\python\\python37\\lib\\inspect.py\", line 696, in getsourcefile\n",
      "    if getattr(getmodule(object, filename), '__loader__', None) is not None:\n",
      "  File \"c:\\users\\91971\\appdata\\local\\programs\\python\\python37\\lib\\inspect.py\", line 733, in getmodule\n",
      "    if ismodule(module) and hasattr(module, '__file__'):\n",
      "  File \"c:\\users\\91971\\appdata\\local\\programs\\python\\python37\\lib\\site-packages\\tensorflow\\__init__.py\", line 50, in __getattr__\n",
      "    module = self._load()\n",
      "  File \"c:\\users\\91971\\appdata\\local\\programs\\python\\python37\\lib\\site-packages\\tensorflow\\__init__.py\", line 44, in _load\n",
      "    module = _importlib.import_module(self.__name__)\n",
      "  File \"c:\\users\\91971\\appdata\\local\\programs\\python\\python37\\lib\\importlib\\__init__.py\", line 127, in import_module\n",
      "    return _bootstrap._gcd_import(name[level:], package, level)\n",
      "  File \"<frozen importlib._bootstrap>\", line 1006, in _gcd_import\n",
      "  File \"<frozen importlib._bootstrap>\", line 983, in _find_and_load\n",
      "  File \"<frozen importlib._bootstrap>\", line 965, in _find_and_load_unlocked\n",
      "ModuleNotFoundError: No module named 'tensorflow_core.estimator'\n"
     ]
    },
    {
     "ename": "KeyboardInterrupt",
     "evalue": "",
     "output_type": "error",
     "traceback": [
      "\u001b[1;31m---------------------------------------------------------------------------\u001b[0m"
     ]
    }
   ],
   "source": [
    "\"\"\" train the neural network \"\"\"\n",
    "\n",
    "filepath = \"model/weights-improvement-{epoch:02d}-{loss:.4f}-bigger.hdf5\"\n",
    "\n",
    "checkpoint = ModelCheckpoint(\n",
    "    filepath,\n",
    "    monitor='loss',\n",
    "    verbose=0,\n",
    "    save_best_only=True,\n",
    "    mode='min')\n",
    "\n",
    "callbacks_list = [checkpoint]\n",
    "\n",
    "model_his = model.fit(network_input, network_output, epochs=100, batch_size=64, callbacks=callbacks_list)"
   ]
  },
  {
   "cell_type": "code",
   "execution_count": 28,
   "metadata": {
    "colab": {},
    "colab_type": "code",
    "id": "3QqR69Z-nUS0"
   },
   "outputs": [],
   "source": [
    "model = load_model(\"model/weights-improvement-60-1.1406-bigger.hdf5\")"
   ]
  },
  {
   "cell_type": "markdown",
   "metadata": {
    "colab_type": "text",
    "id": "DLwpHZeEeiTQ"
   },
   "source": [
    "# Predictions"
   ]
  },
  {
   "cell_type": "code",
   "execution_count": 29,
   "metadata": {
    "colab": {},
    "colab_type": "code",
    "id": "-MNyxklJqxLd"
   },
   "outputs": [],
   "source": [
    "#  This is done beacuse we need network_input as list, and we had converted it into ndarray to feed into network\n",
    "#  so, to get back the list.\n",
    "\n",
    "sequence_length = 100\n",
    "network_input = []\n",
    "for i in range(0, len(notes) - sequence_length, 1):\n",
    "    sequence_in = notes[i:i + sequence_length]\n",
    "    network_input.append([note_to_int[char] for char in sequence_in])"
   ]
  },
  {
   "cell_type": "code",
   "execution_count": 30,
   "metadata": {
    "colab": {},
    "colab_type": "code",
    "id": "-lufH6280t6_"
   },
   "outputs": [],
   "source": [
    "\"\"\" Generate notes from the neural network based on a sequence of notes \"\"\"\n",
    "\n",
    "# pick a random sequence from the input as a starting point for the prediction\n",
    "start = numpy.random.randint(0, len(network_input)-1)\n",
    "\n",
    "# Mapping from int to note\n",
    "int_to_note = dict((number, note) for number, note in enumerate(pitchnames))\n",
    "\n",
    "# initial pattern\n",
    "pattern = network_input[start]\n",
    "prediction_output = []\n",
    "\n",
    "# generate 200 notes\n",
    "for note_index in range(200):\n",
    "    prediction_input = numpy.reshape(pattern, (1, len(pattern), 1))\n",
    "    prediction_input = prediction_input / float(n_vocab)\n",
    "\n",
    "    prediction = model.predict(prediction_input, verbose=0)\n",
    "\n",
    "    index = numpy.argmax(prediction)\n",
    "    result = int_to_note[index]\n",
    "    prediction_output.append(result)\n",
    "\n",
    "    \n",
    "    # Remove the first value, and append the recent value.. \n",
    "    # This way input is moving forward step-by-step with time..\n",
    "    pattern.append(index)\n",
    "    pattern = pattern[1:len(pattern)]"
   ]
  },
  {
   "cell_type": "code",
   "execution_count": 31,
   "metadata": {
    "colab": {
     "base_uri": "https://localhost:8080/",
     "height": 54
    },
    "colab_type": "code",
    "id": "HWgYST03zeHZ",
    "outputId": "7755e9fe-66bd-45bf-9123-0c3338496fd4"
   },
   "outputs": [
    {
     "name": "stdout",
     "output_type": "stream",
     "text": [
      "['2+5', '0+5', '0+5', '0+5', '0+5', '0+5', '0+5', '0+5', '0+5', 'G5', '2+5', '2+5', 'G5', '2+5', '2+5', 'G5', '2+5', '2+5', 'G5', '2+5', '2+5', '2+5', '2+5', '2+5', '0+5', '0+5', '0+5', 'C5', 'G5', 'F5', 'F5', '2+5', '0+5', 'F5', '2+5', '2+5', '2+5', 'G5', '0+5', 'F5', '0+4', '0+5', '0+5', '2+5', '0+5', '0+5', '0+5', '0+5', '0+5', '2+5', '2+5', '2+5', 'F5', '2+5', 'G5', 'G5', '2+5', '2+5', '2+5', 'C5', '2+5', '0+5', '2+5', 'C5', '2+5', '2+5', 'B4', '0+5', 'B4', '0+5', '0+5', '0+5', 'F5', 'G5', '2+5', '0+5', '2+5', '0+5', 'F5', '0+5', '0+5', '0+5', '0+5', '0+5', '0+5', 'G5', '0+5', 'B4', 'F5', '0+5', '2+5', '2+5', '2+5', '2+5', '2+5', '0+5', '0+5', '0+5', '0+5', '0+5', 'C3', 'G5', 'G5', 'G5', 'G5', 'G5', 'G5', 'G5', 'G5', '0+5', 'C5', '0+5', '0+5', '0+5', '0+5', '0+5', 'B-2', '0+5', 'C5', 'F2', '0+5', '0+5', 'E5', 'G5', 'B4', 'B4', '0+5', '0+5', 'B4', '2+5', '0+5', 'B4', '0+5', '0+5', 'E3', 'G5', '0+5', '0+5', 'F5', '0+5', 'G5', 'G5', 'G5', 'B-2', '0+5', '0+5', '0+5', '0+5', 'C5', '0+5', '0+5', '0+5', '2+5', '0+5', 'B4', '0+5', '0+5', '0+5', '0+5', '0+5', '0+5', 'E3', 'F2', '0+5', '0+5', '0+5', '0+5', 'B-2', '0+5', 'B4', 'C5', 'G5', 'B4', '2+5', 'G5', 'B4', '0+5', '0+5', '0+5', '0+5', '0+5', '0+5', 'B4', 'C5', '0+5', 'C5', 'G5', '2+5', '2+5', '10+3', '0+5', 'E5', '0+5', '0+5', '0+5', '0+5', '0+5', 'D2', 'D2', '0+5']\n"
     ]
    }
   ],
   "source": [
    "#  Our newly generated song (mix of chords and notes)\n",
    "print(prediction_output)"
   ]
  },
  {
   "cell_type": "markdown",
   "metadata": {
    "colab_type": "text",
    "id": "SIo5ee75n_BK"
   },
   "source": [
    "# Create Midi File"
   ]
  },
  {
   "cell_type": "code",
   "execution_count": 32,
   "metadata": {
    "colab": {},
    "colab_type": "code",
    "id": "kwDHedkrq7qg"
   },
   "outputs": [],
   "source": [
    "\"\"\" convert the output from the prediction to notes and create a midi file from the notes \"\"\"\n",
    "\n",
    "offset = 0 # Time\n",
    "output_notes = []\n",
    "\n",
    "# create note and chord objects based on the values generated by the model\n",
    "for pattern in prediction_output:\n",
    "    \n",
    "    # if pattern is a chord\n",
    "    if ('+' in pattern) or pattern.isdigit():\n",
    "        notes_in_chord = pattern.split('+') # split all the notes from a chord\n",
    "        notes = []\n",
    "        for current_note in notes_in_chord: \n",
    "            new_note = note.Note(int(current_note)) # create Note object for each note in the chord\n",
    "            new_note.storedInstrument = instrument.Piano() \n",
    "            notes.append(new_note) # list of Notes()\n",
    "            \n",
    "        new_chord = chord.Chord(notes)  # Create the Chord() from the list of notes.\n",
    "        new_chord.offset = offset # set offset to the element\n",
    "        output_notes.append(new_chord) \n",
    "        \n",
    "    # if pattern is a note\n",
    "    else:\n",
    "        new_note = note.Note(pattern) #  create Note object\n",
    "        new_note.offset = offset # set offset  (basically timestamp)\n",
    "        new_note.storedInstrument = instrument.Piano()\n",
    "        output_notes.append(new_note) \n",
    "\n",
    "    # increase offset each iteration so that notes do not stack (time stamp)\n",
    "    offset += 0.5"
   ]
  },
  {
   "cell_type": "code",
   "execution_count": 33,
   "metadata": {
    "colab": {
     "base_uri": "https://localhost:8080/",
     "height": 867
    },
    "colab_type": "code",
    "id": "VkF6JWlGzLI_",
    "outputId": "81ff032a-6440-4e92-a3d0-482526452433"
   },
   "outputs": [
    {
     "data": {
      "text/plain": [
       "[<music21.chord.Chord D F>,\n",
       " <music21.chord.Chord C F>,\n",
       " <music21.chord.Chord C F>,\n",
       " <music21.chord.Chord C F>,\n",
       " <music21.chord.Chord C F>,\n",
       " <music21.chord.Chord C F>,\n",
       " <music21.chord.Chord C F>,\n",
       " <music21.chord.Chord C F>,\n",
       " <music21.chord.Chord C F>,\n",
       " <music21.note.Note G>,\n",
       " <music21.chord.Chord D F>,\n",
       " <music21.chord.Chord D F>,\n",
       " <music21.note.Note G>,\n",
       " <music21.chord.Chord D F>,\n",
       " <music21.chord.Chord D F>,\n",
       " <music21.note.Note G>,\n",
       " <music21.chord.Chord D F>,\n",
       " <music21.chord.Chord D F>,\n",
       " <music21.note.Note G>,\n",
       " <music21.chord.Chord D F>,\n",
       " <music21.chord.Chord D F>,\n",
       " <music21.chord.Chord D F>,\n",
       " <music21.chord.Chord D F>,\n",
       " <music21.chord.Chord D F>,\n",
       " <music21.chord.Chord C F>,\n",
       " <music21.chord.Chord C F>,\n",
       " <music21.chord.Chord C F>,\n",
       " <music21.note.Note C>,\n",
       " <music21.note.Note G>,\n",
       " <music21.note.Note F>,\n",
       " <music21.note.Note F>,\n",
       " <music21.chord.Chord D F>,\n",
       " <music21.chord.Chord C F>,\n",
       " <music21.note.Note F>,\n",
       " <music21.chord.Chord D F>,\n",
       " <music21.chord.Chord D F>,\n",
       " <music21.chord.Chord D F>,\n",
       " <music21.note.Note G>,\n",
       " <music21.chord.Chord C F>,\n",
       " <music21.note.Note F>,\n",
       " <music21.chord.Chord C E>,\n",
       " <music21.chord.Chord C F>,\n",
       " <music21.chord.Chord C F>,\n",
       " <music21.chord.Chord D F>,\n",
       " <music21.chord.Chord C F>,\n",
       " <music21.chord.Chord C F>,\n",
       " <music21.chord.Chord C F>,\n",
       " <music21.chord.Chord C F>,\n",
       " <music21.chord.Chord C F>,\n",
       " <music21.chord.Chord D F>]"
      ]
     },
     "execution_count": 33,
     "metadata": {},
     "output_type": "execute_result"
    }
   ],
   "source": [
    "output_notes[:50]"
   ]
  },
  {
   "cell_type": "code",
   "execution_count": 34,
   "metadata": {
    "colab": {
     "base_uri": "https://localhost:8080/",
     "height": 34
    },
    "colab_type": "code",
    "id": "i79nbmR6zRRU",
    "outputId": "4257fc99-295a-462b-86f4-51c2763f99bb"
   },
   "outputs": [
    {
     "data": {
      "text/plain": [
       "'output_songs/test_output.mid'"
      ]
     },
     "execution_count": 34,
     "metadata": {},
     "output_type": "execute_result"
    }
   ],
   "source": [
    "#  Create a Steam Object from our generated Notes, and write to the file. \n",
    "midi_stream = stream.Stream(output_notes)\n",
    "midi_stream.write('midi', fp='output_songs/test_output.mid')"
   ]
  },
  {
   "cell_type": "markdown",
   "metadata": {},
   "source": [
    "### Let's Play Our Music"
   ]
  },
  {
   "cell_type": "code",
   "execution_count": 35,
   "metadata": {
    "colab": {
     "base_uri": "https://localhost:8080/",
     "height": 17
    },
    "colab_type": "code",
    "id": "i3NwSjHd3HjN",
    "outputId": "b5f6d32a-7932-4c02-9254-dfe86e95625d"
   },
   "outputs": [
    {
     "data": {
      "text/html": [
       "\n",
       "                <div id='midiPlayerDiv148704'></div>\n",
       "                <link rel=\"stylesheet\" href=\"//cuthbertLab.github.io/music21j/css/m21.css\"\n",
       "                    type=\"text/css\" />\n",
       "                <script>\n",
       "                require.config({\n",
       "                    paths: {'music21': '//cuthbertLab.github.io/music21j/src/music21'}\n",
       "                });\n",
       "                require(['music21'], function() {\n",
       "                               mp = new music21.miditools.MidiPlayer();\n",
       "                               mp.addPlayer('#midiPlayerDiv148704');\n",
       "                               mp.base64Load('data:audio/midi;base64,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');\n",
       "                        });\n",
       "                </script>"
      ],
      "text/plain": [
       "<IPython.core.display.HTML object>"
      ]
     },
     "metadata": {},
     "output_type": "display_data"
    }
   ],
   "source": [
    "midi_stream.show('midi')"
   ]
  },
  {
   "cell_type": "code",
   "execution_count": null,
   "metadata": {},
   "outputs": [],
   "source": []
  }
 ],
 "metadata": {
  "accelerator": "GPU",
  "colab": {
   "name": "Music Generation.ipynb",
   "provenance": [],
   "version": "0.3.2"
  },
  "kernelspec": {
   "display_name": "Python 3",
   "language": "python",
   "name": "python3"
  },
  "language_info": {
   "codemirror_mode": {
    "name": "ipython",
    "version": 3
   },
   "file_extension": ".py",
   "mimetype": "text/x-python",
   "name": "python",
   "nbconvert_exporter": "python",
   "pygments_lexer": "ipython3",
   "version": "3.7.4"
  }
 },
 "nbformat": 4,
 "nbformat_minor": 1
}
